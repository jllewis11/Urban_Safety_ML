{
 "cells": [
  {
   "cell_type": "code",
   "execution_count": null,
   "metadata": {},
   "outputs": [],
   "source": [
    "# !pip install -r requirements.txt\n",
    "import pandas as pd\n",
    "import numpy as np\n",
    "import torch\n",
    "import torchvision\n",
    "from tqdm import tqdm\n",
    "import torch.nn as nn\n",
    "import torch.optim as optim\n",
    "from sklearn.model_selection import train_test_split\n",
    "from sklearn.preprocessing import OneHotEncoder, StandardScaler, LabelEncoder\n",
    "from imblearn.over_sampling import SMOTE\n",
    "from sklearn.metrics import accuracy_score\n",
    "from pandas.tseries.holiday import USFederalHolidayCalendar\n",
    "# Load your dataset\n",
    "\n",
    "df = pd.read_csv(\"San_Francisco.csv\")"
   ]
  },
  {
   "cell_type": "code",
   "execution_count": null,
   "metadata": {},
   "outputs": [],
   "source": [
    "# Preprocess data (you'll need to adjust this to match your actual data)\n",
    "df['Date_Time'] = pd.to_datetime(df['Date'] + ' ' + df['Time'])\n",
    "df['Year'] = df['Date_Time'].dt.year\n",
    "df['Month'] = df['Date_Time'].dt.month\n",
    "df['Day'] = df['Date_Time'].dt.day\n",
    "df['Time_minutes'] = df['Date_Time'].dt.hour * 60 + df['Date_Time'].dt.minute\n",
    "\n",
    "calendar = USFederalHolidayCalendar()\n",
    "df['Date'] = pd.to_datetime(df['Date'])\n",
    "tqdm.pandas(desc=\"Checking holidays...\")\n",
    "df['IsHoliday'] = df['Date'].progress_apply(lambda x: x in calendar.holidays())"
   ]
  },
  {
   "cell_type": "code",
   "execution_count": null,
   "metadata": {},
   "outputs": [],
   "source": [
    "one_hot_encoder = OneHotEncoder(sparse=False)\n",
    "one_hot_encoded = one_hot_encoder.fit_transform(df[['Day_of_Week', 'Part_of_Day']])\n",
    "one_hot_columns = one_hot_encoder.get_feature_names_out(['Day_of_Week', 'Part_of_Day'])\n",
    "\n",
    "scaler = StandardScaler()\n",
    "scaled_columns = ['Year', 'Month', 'Day', 'Time_minutes', 'IsHoliday', 'Latitude', 'Longitude']\n",
    "scaled_values = scaler.fit_transform(df[scaled_columns])\n",
    "\n",
    "X = np.hstack((scaled_values, one_hot_encoded))\n",
    "y = df['Category'].values\n",
    "\n",
    "label_encoder = LabelEncoder()\n",
    "y = label_encoder.fit_transform(y)\n",
    "\n",
    "X_train, X_test, y_train, y_test = train_test_split(X, y, test_size=0.2, random_state=42)\n",
    "\n",
    "smote = SMOTE(random_state=42)\n",
    "X_train_resampled, y_train_resampled = smote.fit_resample(X_train, y_train)\n",
    "\n"
   ]
  },
  {
   "cell_type": "code",
   "execution_count": null,
   "metadata": {},
   "outputs": [],
   "source": [
    "# Convert to tensors\n",
    "X_train_resampled = torch.tensor(X_train_resampled, dtype=torch.float32)\n",
    "X_test = torch.tensor(X_test, dtype=torch.float32)\n",
    "y_train_resampled = torch.tensor(y_train_resampled, dtype=torch.long)\n",
    "y_test = torch.tensor(y_test, dtype=torch.long)"
   ]
  },
  {
   "cell_type": "code",
   "execution_count": null,
   "metadata": {},
   "outputs": [],
   "source": [
    "class CrimeCategoryGRU(nn.Module):\n",
    "    def __init__(self, input_dim, hidden_dim, output_dim, num_layers=1):\n",
    "        super(CrimeCategoryGRU, self).__init__()\n",
    "        self.rnn = nn.GRU(input_dim, hidden_dim, num_layers, batch_first=True)\n",
    "        self.fc = nn.Linear(hidden_dim, output_dim)\n",
    "\n",
    "    def forward(self, x):\n",
    "        rnn_out, _ = self.rnn(x)\n",
    "        last_out = rnn_out[:, -1, :]\n",
    "        x = self.fc(last_out)\n",
    "        return x\n",
    "\n",
    "input_dim = X_train.shape[1]\n",
    "seq_length = 1  # This will be changed if you have a different sequence length\n",
    "output_dim = len(np.unique(y_train))\n",
    "\n",
    "X_train_resampled = X_train_resampled.view(-1, seq_length, input_dim)\n",
    "X_test = X_test.view(-1, seq_length, input_dim)"
   ]
  },
  {
   "cell_type": "code",
   "execution_count": null,
   "metadata": {},
   "outputs": [],
   "source": [
    "def train_and_evaluate(lr, hidden_dim, X_train, y_train, X_test, y_test):\n",
    "    model = CrimeCategoryGRU(input_dim, hidden_dim, output_dim)\n",
    "    criterion = nn.CrossEntropyLoss()\n",
    "    optimizer = optim.Adam(model.parameters(), lr=lr)\n",
    "\n",
    "    n_epochs = 100\n",
    "\n",
    "    for epoch in range(n_epochs):\n",
    "        optimizer.zero_grad()\n",
    "        output = model(X_train)\n",
    "        loss = criterion(output, y_train)\n",
    "        loss.backward()\n",
    "        optimizer.step()\n",
    "\n",
    "        if epoch % 10 == 0:\n",
    "            print(f'Epoch: {epoch}, Loss: {loss}')\n",
    "\n",
    "    model.eval()\n",
    "    with torch.no_grad():\n",
    "        output = model(X_test)\n",
    "        _, predicted = torch.max(output.data, 1)\n",
    "        accuracy = accuracy_score(y_test, predicted)\n",
    "\n",
    "    print(f'Accuracy: {accuracy}')\n",
    "    return accuracy"
   ]
  },
  {
   "cell_type": "code",
   "execution_count": null,
   "metadata": {},
   "outputs": [],
   "source": [
    "learning_rates = [0.0001]\n",
    "hidden_dims = [128, 256]\n",
    "\n",
    "best_accuracy = 0\n",
    "best_params = None\n",
    "\n",
    "for lr in learning_rates:\n",
    "    for hidden_dim in hidden_dims:\n",
    "        current_accuracy = train_and_evaluate(lr, hidden_dim, X_train_resampled, y_train_resampled, X_test, y_test)\n",
    "        print(f'Learning rate: {lr}, Hidden dim: {hidden_dim}, Accuracy: {current_accuracy}')\n",
    "        if current_accuracy > best_accuracy:\n",
    "            best_accuracy = current_accuracy\n",
    "            best_params = (lr, hidden_dim)\n",
    "\n",
    "print(f'Best learning rate: {best_params[0]}, Best hidden_dim: {best_params[1]}')"
   ]
  }
 ],
 "metadata": {
  "kernelspec": {
   "display_name": "Python 3",
   "language": "python",
   "name": "python3"
  },
  "language_info": {
   "codemirror_mode": {
    "name": "ipython",
    "version": 3
   },
   "file_extension": ".py",
   "mimetype": "text/x-python",
   "name": "python",
   "nbconvert_exporter": "python",
   "pygments_lexer": "ipython3",
   "version": "3.10.10"
  },
  "orig_nbformat": 4
 },
 "nbformat": 4,
 "nbformat_minor": 2
}
